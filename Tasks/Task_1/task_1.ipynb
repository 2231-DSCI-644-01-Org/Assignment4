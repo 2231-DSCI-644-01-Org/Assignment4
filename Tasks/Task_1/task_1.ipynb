{
  "cells": [
    {
      "cell_type": "markdown",
      "metadata": {
        "id": "d-s2_0gD-Yth"
      },
      "source": [
        "#  Step 1: Install the required packages\n"
      ]
    },
    {
      "cell_type": "code",
      "execution_count": 6,
      "metadata": {},
      "outputs": [
        {
          "name": "stdout",
          "output_type": "stream",
          "text": [
            "Requirement already satisfied: kaggle in /usr/local/python/3.10.8/lib/python3.10/site-packages (1.5.16)\n",
            "Requirement already satisfied: six>=1.10 in /home/codespace/.local/lib/python3.10/site-packages (from kaggle) (1.16.0)\n",
            "Requirement already satisfied: certifi in /home/codespace/.local/lib/python3.10/site-packages (from kaggle) (2023.7.22)\n",
            "Requirement already satisfied: python-dateutil in /home/codespace/.local/lib/python3.10/site-packages (from kaggle) (2.8.2)\n",
            "Requirement already satisfied: requests in /home/codespace/.local/lib/python3.10/site-packages (from kaggle) (2.31.0)\n",
            "Requirement already satisfied: tqdm in /usr/local/python/3.10.8/lib/python3.10/site-packages (from kaggle) (4.66.1)\n",
            "Requirement already satisfied: python-slugify in /usr/local/python/3.10.8/lib/python3.10/site-packages (from kaggle) (8.0.1)\n",
            "Requirement already satisfied: urllib3 in /home/codespace/.local/lib/python3.10/site-packages (from kaggle) (2.0.4)\n",
            "Requirement already satisfied: bleach in /home/codespace/.local/lib/python3.10/site-packages (from kaggle) (6.0.0)\n",
            "Requirement already satisfied: webencodings in /home/codespace/.local/lib/python3.10/site-packages (from bleach->kaggle) (0.5.1)\n",
            "Requirement already satisfied: text-unidecode>=1.3 in /usr/local/python/3.10.8/lib/python3.10/site-packages (from python-slugify->kaggle) (1.3)\n",
            "Requirement already satisfied: charset-normalizer<4,>=2 in /home/codespace/.local/lib/python3.10/site-packages (from requests->kaggle) (3.2.0)\n",
            "Requirement already satisfied: idna<4,>=2.5 in /home/codespace/.local/lib/python3.10/site-packages (from requests->kaggle) (3.4)\n"
          ]
        }
      ],
      "source": [
        "!pip install kaggle"
      ]
    },
    {
      "cell_type": "code",
      "execution_count": 7,
      "metadata": {
        "id": "oxMCmdS--Yti"
      },
      "outputs": [],
      "source": [
        "\n",
        "import os\n",
        "import json\n",
        "import pandas as pd"
      ]
    },
    {
      "cell_type": "markdown",
      "metadata": {
        "id": "T2e6ifk6-Yti"
      },
      "source": [
        "# Step 2 Read the kaggle.json file\n",
        "This file contains the username and key required to access the kaggle api\n",
        "You can download this file from your kaggle account\n"
      ]
    },
    {
      "cell_type": "code",
      "execution_count": 8,
      "metadata": {
        "id": "48_zIyTt-Ytj"
      },
      "outputs": [],
      "source": [
        "file_path = ''\n",
        "with open(file_path, 'r') as f:\n",
        "    keys = json.load(f)"
      ]
    },
    {
      "cell_type": "markdown",
      "metadata": {
        "id": "HCFccLZO-Ytj"
      },
      "source": [
        "# Step 3: Set the environment variables"
      ]
    },
    {
      "cell_type": "code",
      "execution_count": 9,
      "metadata": {
        "id": "3d4MC8Jh-Ytj"
      },
      "outputs": [],
      "source": [
        "os.environ['KAGGLE_USERNAME'] = keys['username']\n",
        "os.environ['KAGGLE_KEY'] = keys['key']\n"
      ]
    },
    {
      "cell_type": "markdown",
      "metadata": {
        "id": "hNX1-99U-Ytj"
      },
      "source": [
        "# Step 4: Download the dataset"
      ]
    },
    {
      "cell_type": "code",
      "execution_count": 10,
      "metadata": {
        "id": "WogbhDaK-Ytj"
      },
      "outputs": [],
      "source": [
        "\n",
        "from kaggle.api.kaggle_api_extended import KaggleApi\n",
        "api = KaggleApi()\n",
        "api.authenticate()\n",
        "api.dataset_download_files('parulpandey/most-starred-github-repositories', path=\".\")"
      ]
    },
    {
      "cell_type": "markdown",
      "metadata": {
        "id": "aczYbxjq-Ytj"
      },
      "source": [
        "# Step 5: Unzip the dataset and rename it to repos_list.csv"
      ]
    },
    {
      "cell_type": "code",
      "execution_count": 11,
      "metadata": {
        "id": "ChTNlU29-Ytj"
      },
      "outputs": [],
      "source": [
        "\n",
        "from zipfile import ZipFile\n",
        "zip_file_path = ''\n",
        "with ZipFile('', 'r') as zipObj:\n",
        "   zipObj.extractall('data')"
      ]
    },
    {
      "cell_type": "markdown",
      "metadata": {},
      "source": [
        "# Step 6: Extract the required columns from the dataset"
      ]
    },
    {
      "cell_type": "code",
      "execution_count": 12,
      "metadata": {
        "id": "rcsIyCbT-Ytj"
      },
      "outputs": [],
      "source": [
        "\n",
        "filename = \"\" # Enter the filename here\n",
        "# rename the file to repositories.csv\n",
        "\n",
        "df = pd.read_csv('data/repositories.csv')\n",
        "\n",
        "# Step 7: Create a new dataframe with only the username and repo_name columns\n",
        "repo_df =\n",
        "\n",
        "# Step 8: Save the dataframe to a csv file called repo_list.csv\n",
        "\n",
        "\n",
        "\n"
      ]
    },
    {
      "cell_type": "markdown",
      "metadata": {},
      "source": [
        "# Step 7: Follow the instructions below to successfully request the issues of a repository using the graphql query file and Github's API"
      ]
    },
    {
      "cell_type": "code",
      "execution_count": 14,
      "metadata": {
        "id": "F3DAN2QfWRtd"
      },
      "outputs": [],
      "source": [
        "# Create a function to obtain a random username and repo name from the dataframe\n",
        "import random\n",
        "\n",
        "def get_random_repo():\n",
        "    # Enter code here\n",
        "    return username, repo_name"
      ]
    },
    {
      "cell_type": "code",
      "execution_count": 16,
      "metadata": {},
      "outputs": [],
      "source": [
        "# Create a function to obtain the query.graphql file\n",
        "\n",
        "def get_query():\n",
        "    # Enter code here\n",
        "    return query "
      ]
    },
    {
      "cell_type": "code",
      "execution_count": null,
      "metadata": {},
      "outputs": [],
      "source": [
        "#  Get Data from Github API\n",
        "import requests\n",
        "\n",
        "def headers(token):\n",
        "    headers = {\n",
        "    'Content-Type': 'application/x-www-form-urlencoded',\n",
        "    'Authorization': f\"bearer {str(token)}\",\n",
        "    'Accept': 'application/vnd.github.v3+json' \n",
        "    }\n",
        "    return headers\n",
        "\n",
        "\n",
        "owner, repo = \n",
        "token =  \"YOUR GITHUB TOKEN HERE \"\n",
        "# REMEMBER TO REMOVE YOUR TOKEN BEFORE SUBMITTING\n",
        "\n",
        "header =\n",
        "query = \n",
        "# Look at the query file to see what parameters are required\n",
        "# In graphQL, mandatory parameters are denoted by a ! after the parameter's data type\n",
        "params = {\"owner\": owner }\n",
        "response = requests.post('https://api.github.com/graphql', json = {'query': query, 'variables':params}, headers = header)"
      ]
    },
    {
      "cell_type": "code",
      "execution_count": 23,
      "metadata": {},
      "outputs": [
        {
          "data": {
            "text/plain": [
              "200"
            ]
          },
          "execution_count": 23,
          "metadata": {},
          "output_type": "execute_result"
        }
      ],
      "source": [
        "# Check if the response is successful\n",
        "response.status_code"
      ]
    },
    {
      "cell_type": "code",
      "execution_count": null,
      "metadata": {},
      "outputs": [],
      "source": [
        "# Check the response content\n",
        "response.json()"
      ]
    },
    {
      "cell_type": "code",
      "execution_count": null,
      "metadata": {},
      "outputs": [],
      "source": [
        "# Save the response to a json file in a separate folder called processed_data\n",
        "# The json file should be named as the username_repo.json\n"
      ]
    }
  ],
  "metadata": {
    "colab": {
      "provenance": []
    },
    "kernelspec": {
      "display_name": "Assignment-1-gXjE2Zjf",
      "language": "python",
      "name": "python3"
    },
    "language_info": {
      "codemirror_mode": {
        "name": "ipython",
        "version": 3
      },
      "file_extension": ".py",
      "mimetype": "text/x-python",
      "name": "python",
      "nbconvert_exporter": "python",
      "pygments_lexer": "ipython3",
      "version": "3.10.8"
    },
    "orig_nbformat": 4
  },
  "nbformat": 4,
  "nbformat_minor": 0
}
